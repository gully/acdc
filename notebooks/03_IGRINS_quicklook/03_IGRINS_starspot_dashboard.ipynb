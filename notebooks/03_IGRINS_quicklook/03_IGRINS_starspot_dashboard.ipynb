{
 "cells": [
  {
   "cell_type": "markdown",
   "id": "c724487b",
   "metadata": {},
   "source": [
    "# IGRINS starspot measurements with dashboard\n",
    "\n",
    "Let's spot-check our data with muler and gollum!"
   ]
  },
  {
   "cell_type": "code",
   "execution_count": null,
   "id": "7443d0ee",
   "metadata": {},
   "outputs": [],
   "source": [
    "%config InlineBackend.figure_format='retina'"
   ]
  },
  {
   "cell_type": "code",
   "execution_count": null,
   "id": "44a0fb0c",
   "metadata": {},
   "outputs": [],
   "source": [
    "from muler.igrins import IGRINSSpectrum, IGRINSSpectrumList\n",
    "from gollum.phoenix import PHOENIXGrid\n",
    "import glob\n",
    "import matplotlib.pyplot as plt\n",
    "import pandas as pd"
   ]
  },
  {
   "cell_type": "code",
   "execution_count": null,
   "id": "f7c3dc94",
   "metadata": {},
   "outputs": [],
   "source": [
    "from tqdm.notebook import tqdm"
   ]
  },
  {
   "cell_type": "code",
   "execution_count": null,
   "id": "492a329b",
   "metadata": {},
   "outputs": [],
   "source": [
    "fns = glob.glob('../../data/IGRINS/GS-2021A-Q-311/**/SDCH*.spec_a0v.fits', recursive=True)"
   ]
  },
  {
   "cell_type": "code",
   "execution_count": null,
   "id": "8a1761ae",
   "metadata": {},
   "outputs": [],
   "source": [
    "len(fns)"
   ]
  },
  {
   "cell_type": "markdown",
   "id": "68dd100a",
   "metadata": {},
   "source": [
    "### Map filenames to object"
   ]
  },
  {
   "cell_type": "code",
   "execution_count": null,
   "id": "b2d1a27a",
   "metadata": {},
   "outputs": [],
   "source": [
    "fn = fns[0]"
   ]
  },
  {
   "cell_type": "code",
   "execution_count": null,
   "id": "508bc834",
   "metadata": {},
   "outputs": [],
   "source": [
    "lookup_dict={}\n",
    "for fn in tqdm(fns):\n",
    "    spec = IGRINSSpectrum(file=fn)\n",
    "    lookup_dict[fn]=spec.meta['header']['OBJECT']\n",
    "    del spec"
   ]
  },
  {
   "cell_type": "code",
   "execution_count": null,
   "id": "99366d6e",
   "metadata": {},
   "outputs": [],
   "source": [
    "df = pd.DataFrame.from_dict(lookup_dict,orient='index').reset_index()\n",
    "df = df.rename(columns={0:'Object', 'index':'fn'})[['Object', 'fn']]"
   ]
  },
  {
   "cell_type": "code",
   "execution_count": null,
   "id": "9984b3a1",
   "metadata": {},
   "outputs": [],
   "source": [
    "df.Object.value_counts()"
   ]
  },
  {
   "cell_type": "markdown",
   "id": "0211ec1f",
   "metadata": {},
   "source": [
    "Yay, we have up to 5 spectra on several of our targets."
   ]
  },
  {
   "cell_type": "code",
   "execution_count": null,
   "id": "7035725c",
   "metadata": {},
   "outputs": [],
   "source": [
    "target = 'V* V479 Car'"
   ]
  },
  {
   "cell_type": "code",
   "execution_count": null,
   "id": "18341615",
   "metadata": {},
   "outputs": [],
   "source": [
    "mask = df.Object == target"
   ]
  },
  {
   "cell_type": "code",
   "execution_count": null,
   "id": "8d5785d9",
   "metadata": {},
   "outputs": [],
   "source": [
    "fns = sorted(df[mask].fn.values)"
   ]
  },
  {
   "cell_type": "markdown",
   "id": "c46c52e0",
   "metadata": {},
   "source": [
    "### Read in each spectrum \n",
    "... to an HPFSpectrumList Object"
   ]
  },
  {
   "cell_type": "code",
   "execution_count": null,
   "id": "59528512",
   "metadata": {},
   "outputs": [],
   "source": [
    "m = 13"
   ]
  },
  {
   "cell_type": "code",
   "execution_count": null,
   "id": "aa0fd042",
   "metadata": {},
   "outputs": [],
   "source": [
    "spectra = []\n",
    "for fn in tqdm(fns):\n",
    "    spectra.append(IGRINSSpectrum(file=fn, order=m))"
   ]
  },
  {
   "cell_type": "markdown",
   "id": "16435988",
   "metadata": {},
   "source": [
    "Let's pick one representative spectra order and make a list of those spectra."
   ]
  },
  {
   "cell_type": "code",
   "execution_count": null,
   "id": "9462e832",
   "metadata": {},
   "outputs": [],
   "source": [
    "%matplotlib notebook "
   ]
  },
  {
   "cell_type": "code",
   "execution_count": null,
   "id": "fa4920a5",
   "metadata": {
    "scrolled": false
   },
   "outputs": [],
   "source": [
    "ax = spectra[0].trim_edges().normalize().barycentric_correct().plot(ylo=0, yhi=2)\n",
    "for spectrum in spectra:\n",
    "    spec = spectrum.trim_edges().normalize().barycentric_correct()\n",
    "    ax.step(spec.wavelength, spec.flux, color='k', alpha=0.3)"
   ]
  },
  {
   "cell_type": "code",
   "execution_count": null,
   "id": "a8217759",
   "metadata": {},
   "outputs": [],
   "source": [
    "from gollum.telluric import TelluricSpectrum\n",
    "import astropy.units as u"
   ]
  },
  {
   "cell_type": "code",
   "execution_count": null,
   "id": "669b64d1",
   "metadata": {},
   "outputs": [],
   "source": [
    "for spectrum in spectra:\n",
    "    print(spectrum.estimate_barycorr().to(u.km/u.s))"
   ]
  },
  {
   "cell_type": "code",
   "execution_count": null,
   "id": "8f121a5b",
   "metadata": {},
   "outputs": [],
   "source": [
    "data = spectrum.trim_edges().barycentric_correct().normalize()\n",
    "\n",
    "wl_lo, wl_hi = data.wavelength.value.min(), data.wavelength.value.max()"
   ]
  },
  {
   "cell_type": "code",
   "execution_count": null,
   "id": "3e306fb1",
   "metadata": {},
   "outputs": [],
   "source": [
    "tell_spec = TelluricSpectrum(\n",
    "                    path=\"default\", wl_lo=wl_lo, wl_hi=wl_hi\n",
    "                )"
   ]
  },
  {
   "cell_type": "code",
   "execution_count": null,
   "id": "e40ca2cb",
   "metadata": {
    "scrolled": false
   },
   "outputs": [],
   "source": [
    "ax = spectra[0].trim_edges().normalize().barycentric_correct().plot(ylo=0, yhi=2)\n",
    "spectra[4].trim_edges().normalize().barycentric_correct().plot(ax=ax)\n",
    "for spectrum in spectra:\n",
    "    spec = spectrum.trim_edges().remove_nans().normalize().barycentric_correct()\n",
    "    ax.step(spec.wavelength, spec.flux, color='k', alpha=0.1)\n",
    "    \n",
    "plt.fill_between(tell_spec.wavelength, tell_spec.flux, 1, color='k', alpha=0.1, label='Telluric')"
   ]
  },
  {
   "cell_type": "code",
   "execution_count": null,
   "id": "160d03f2",
   "metadata": {},
   "outputs": [],
   "source": [
    "grid = PHOENIXGrid(teff_range=(4400, 6200), metallicity_range=(-0.5, 0.5), wl_lo=wl_lo, wl_hi=wl_hi)"
   ]
  },
  {
   "cell_type": "code",
   "execution_count": null,
   "id": "cd96729e",
   "metadata": {},
   "outputs": [],
   "source": [
    "grid.show_dashboard(data=data/1.05)"
   ]
  },
  {
   "cell_type": "markdown",
   "id": "b119eb64",
   "metadata": {},
   "source": [
    "Neat! We have a decent system!  We need to add some more HPF-specific post-processing to the `muler` toolkit."
   ]
  }
 ],
 "metadata": {
  "kernelspec": {
   "display_name": "Python 3 (ipykernel)",
   "language": "python",
   "name": "python3"
  },
  "language_info": {
   "codemirror_mode": {
    "name": "ipython",
    "version": 3
   },
   "file_extension": ".py",
   "mimetype": "text/x-python",
   "name": "python",
   "nbconvert_exporter": "python",
   "pygments_lexer": "ipython3",
   "version": "3.8.13"
  }
 },
 "nbformat": 4,
 "nbformat_minor": 5
}
