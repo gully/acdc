{
 "cells": [
  {
   "cell_type": "markdown",
   "metadata": {},
   "source": [
    "# Save IGRINS observation times to a machine readable log"
   ]
  },
  {
   "cell_type": "markdown",
   "metadata": {},
   "source": [
    "We'll need this to register the TESS observations."
   ]
  },
  {
   "cell_type": "markdown",
   "metadata": {},
   "source": [
    "### Get the IGRINS epoch times."
   ]
  },
  {
   "cell_type": "code",
   "execution_count": 1,
   "metadata": {},
   "outputs": [],
   "source": [
    "import glob"
   ]
  },
  {
   "cell_type": "code",
   "execution_count": 2,
   "metadata": {},
   "outputs": [],
   "source": [
    "from astropy.io import fits"
   ]
  },
  {
   "cell_type": "code",
   "execution_count": 3,
   "metadata": {},
   "outputs": [],
   "source": [
    "reduced_fns = glob.glob('../../data/IGRINS/GS-2021A-Q-311/*/reduced/SDCH*spec_a0v.fits')"
   ]
  },
  {
   "cell_type": "code",
   "execution_count": 4,
   "metadata": {},
   "outputs": [],
   "source": [
    "raw_fns = glob.glob('../../data/IGRINS/GS-2021A-Q-311/*/SDCH*.fits')"
   ]
  },
  {
   "cell_type": "code",
   "execution_count": 5,
   "metadata": {},
   "outputs": [
    {
     "data": {
      "text/plain": [
       "24"
      ]
     },
     "execution_count": 5,
     "metadata": {},
     "output_type": "execute_result"
    }
   ],
   "source": [
    "len(reduced_fns)"
   ]
  },
  {
   "cell_type": "code",
   "execution_count": 6,
   "metadata": {},
   "outputs": [
    {
     "data": {
      "text/plain": [
       "139"
      ]
     },
     "execution_count": 6,
     "metadata": {},
     "output_type": "execute_result"
    }
   ],
   "source": [
    "len(raw_fns)"
   ]
  },
  {
   "cell_type": "code",
   "execution_count": 7,
   "metadata": {},
   "outputs": [],
   "source": [
    "hdu = fits.open(raw_fns[23])[0]\n",
    "hdr = hdu.header"
   ]
  },
  {
   "cell_type": "code",
   "execution_count": 8,
   "metadata": {},
   "outputs": [],
   "source": [
    "keep_keys = ['OBJECT', 'EXPTIME', 'FRMTYPE', 'OBJTYPE', 'JD-OBS']"
   ]
  },
  {
   "cell_type": "code",
   "execution_count": 9,
   "metadata": {},
   "outputs": [],
   "source": [
    "import pandas as pd"
   ]
  },
  {
   "cell_type": "code",
   "execution_count": 10,
   "metadata": {},
   "outputs": [],
   "source": [
    "df_raw = pd.DataFrame()\n",
    "\n",
    "for i, fn in enumerate(raw_fns):\n",
    "    try:\n",
    "        hdu = fits.open(fn)[0]\n",
    "        hdr = hdu.header\n",
    "        out_dict = {key:hdr[key] for key in keep_keys}\n",
    "        out_dict['night_dir'] = fn[33:33+8]\n",
    "        df = pd.DataFrame(out_dict, index=[i])\n",
    "        df_raw = df_raw.append(df)\n",
    "    except:\n",
    "        print(f\"{fn} had a problem\")"
   ]
  },
  {
   "cell_type": "code",
   "execution_count": 11,
   "metadata": {},
   "outputs": [],
   "source": [
    "df_log = df_raw.sort_values('JD-OBS').reset_index(drop=True)"
   ]
  },
  {
   "cell_type": "markdown",
   "metadata": {},
   "source": [
    "Make a quick summary of how many spectra were acquired on each night:"
   ]
  },
  {
   "cell_type": "code",
   "execution_count": 12,
   "metadata": {},
   "outputs": [],
   "source": [
    "from astropy.time import Time"
   ]
  },
  {
   "cell_type": "code",
   "execution_count": 13,
   "metadata": {},
   "outputs": [],
   "source": [
    "df_log['BTJD'] = df_log['JD-OBS']- 2457000.0"
   ]
  },
  {
   "cell_type": "code",
   "execution_count": 14,
   "metadata": {},
   "outputs": [
    {
     "data": {
      "text/html": [
       "<div>\n",
       "<style scoped>\n",
       "    .dataframe tbody tr th:only-of-type {\n",
       "        vertical-align: middle;\n",
       "    }\n",
       "\n",
       "    .dataframe tbody tr th {\n",
       "        vertical-align: top;\n",
       "    }\n",
       "\n",
       "    .dataframe thead th {\n",
       "        text-align: right;\n",
       "    }\n",
       "</style>\n",
       "<table border=\"1\" class=\"dataframe\">\n",
       "  <thead>\n",
       "    <tr style=\"text-align: right;\">\n",
       "      <th></th>\n",
       "      <th></th>\n",
       "      <th></th>\n",
       "      <th>BTJD</th>\n",
       "    </tr>\n",
       "    <tr>\n",
       "      <th>night_dir</th>\n",
       "      <th>OBJECT</th>\n",
       "      <th>EXPTIME</th>\n",
       "      <th></th>\n",
       "    </tr>\n",
       "  </thead>\n",
       "  <tbody>\n",
       "    <tr>\n",
       "      <th>20210202</th>\n",
       "      <th>UCAC2 7201471</th>\n",
       "      <th>30.0</th>\n",
       "      <td>2248.6363</td>\n",
       "    </tr>\n",
       "    <tr>\n",
       "      <th>20210209</th>\n",
       "      <th>TYC 8534-1243-1</th>\n",
       "      <th>70.0</th>\n",
       "      <td>2255.5876</td>\n",
       "    </tr>\n",
       "    <tr>\n",
       "      <th rowspan=\"3\" valign=\"top\">20210210</th>\n",
       "      <th>HD 49855</th>\n",
       "      <th>10.0</th>\n",
       "      <td>2256.5614</td>\n",
       "    </tr>\n",
       "    <tr>\n",
       "      <th>TYC 8534-1243-1</th>\n",
       "      <th>50.0</th>\n",
       "      <td>2256.5409</td>\n",
       "    </tr>\n",
       "    <tr>\n",
       "      <th>UCAC2 7201471</th>\n",
       "      <th>20.0</th>\n",
       "      <td>2256.5551</td>\n",
       "    </tr>\n",
       "    <tr>\n",
       "      <th rowspan=\"3\" valign=\"top\">20210213</th>\n",
       "      <th>HD 49855</th>\n",
       "      <th>30.0</th>\n",
       "      <td>2259.5557</td>\n",
       "    </tr>\n",
       "    <tr>\n",
       "      <th>TYC 8534-1243-1</th>\n",
       "      <th>120.0</th>\n",
       "      <td>2259.5275</td>\n",
       "    </tr>\n",
       "    <tr>\n",
       "      <th>UCAC2 7201471</th>\n",
       "      <th>60.0</th>\n",
       "      <td>2259.5487</td>\n",
       "    </tr>\n",
       "    <tr>\n",
       "      <th rowspan=\"3\" valign=\"top\">20210215</th>\n",
       "      <th>HD 49855</th>\n",
       "      <th>30.0</th>\n",
       "      <td>2261.5832</td>\n",
       "    </tr>\n",
       "    <tr>\n",
       "      <th>TYC 8534-1243-1</th>\n",
       "      <th>120.0</th>\n",
       "      <td>2261.5554</td>\n",
       "    </tr>\n",
       "    <tr>\n",
       "      <th>UCAC2 7201471</th>\n",
       "      <th>30.0</th>\n",
       "      <td>2261.5737</td>\n",
       "    </tr>\n",
       "    <tr>\n",
       "      <th rowspan=\"3\" valign=\"top\">20210216</th>\n",
       "      <th>HD 49855</th>\n",
       "      <th>4.0</th>\n",
       "      <td>2262.6009</td>\n",
       "    </tr>\n",
       "    <tr>\n",
       "      <th>TYC 8534-1243-1</th>\n",
       "      <th>80.0</th>\n",
       "      <td>2262.5276</td>\n",
       "    </tr>\n",
       "    <tr>\n",
       "      <th>UCAC2 7201471</th>\n",
       "      <th>30.0</th>\n",
       "      <td>2262.5426</td>\n",
       "    </tr>\n",
       "    <tr>\n",
       "      <th>20210217</th>\n",
       "      <th>HD 49855</th>\n",
       "      <th>20.0</th>\n",
       "      <td>2263.5394</td>\n",
       "    </tr>\n",
       "    <tr>\n",
       "      <th>20210221</th>\n",
       "      <th>UCAC2 7201471</th>\n",
       "      <th>30.0</th>\n",
       "      <td>2267.5131</td>\n",
       "    </tr>\n",
       "    <tr>\n",
       "      <th>20210310</th>\n",
       "      <th>V* V479 Car</th>\n",
       "      <th>16.0</th>\n",
       "      <td>2284.5063</td>\n",
       "    </tr>\n",
       "    <tr>\n",
       "      <th rowspan=\"2\" valign=\"top\">20210313</th>\n",
       "      <th>V* V1249 Cen</th>\n",
       "      <th>30.0</th>\n",
       "      <td>2287.7163</td>\n",
       "    </tr>\n",
       "    <tr>\n",
       "      <th>V* V479 Car</th>\n",
       "      <th>30.0</th>\n",
       "      <td>2287.6958</td>\n",
       "    </tr>\n",
       "    <tr>\n",
       "      <th rowspan=\"4\" valign=\"top\">20210314</th>\n",
       "      <th>2MASS J12271665-6239142</th>\n",
       "      <th>30.0</th>\n",
       "      <td>2288.5819</td>\n",
       "    </tr>\n",
       "    <tr>\n",
       "      <th>CD-62 657</th>\n",
       "      <th>30.0</th>\n",
       "      <td>2288.5974</td>\n",
       "    </tr>\n",
       "    <tr>\n",
       "      <th>V* V1249 Cen</th>\n",
       "      <th>30.0</th>\n",
       "      <td>2288.5647</td>\n",
       "    </tr>\n",
       "    <tr>\n",
       "      <th>V* V479 Car</th>\n",
       "      <th>30.0</th>\n",
       "      <td>2288.5460</td>\n",
       "    </tr>\n",
       "    <tr>\n",
       "      <th>20210316</th>\n",
       "      <th>V* V479 Car</th>\n",
       "      <th>30.0</th>\n",
       "      <td>2290.6759</td>\n",
       "    </tr>\n",
       "    <tr>\n",
       "      <th>20210317</th>\n",
       "      <th>V* V479 Car</th>\n",
       "      <th>30.0</th>\n",
       "      <td>2291.6196</td>\n",
       "    </tr>\n",
       "  </tbody>\n",
       "</table>\n",
       "</div>"
      ],
      "text/plain": [
       "                                                BTJD\n",
       "night_dir OBJECT                  EXPTIME           \n",
       "20210202  UCAC2 7201471           30.0     2248.6363\n",
       "20210209  TYC 8534-1243-1         70.0     2255.5876\n",
       "20210210  HD 49855                10.0     2256.5614\n",
       "          TYC 8534-1243-1         50.0     2256.5409\n",
       "          UCAC2 7201471           20.0     2256.5551\n",
       "20210213  HD 49855                30.0     2259.5557\n",
       "          TYC 8534-1243-1         120.0    2259.5275\n",
       "          UCAC2 7201471           60.0     2259.5487\n",
       "20210215  HD 49855                30.0     2261.5832\n",
       "          TYC 8534-1243-1         120.0    2261.5554\n",
       "          UCAC2 7201471           30.0     2261.5737\n",
       "20210216  HD 49855                4.0      2262.6009\n",
       "          TYC 8534-1243-1         80.0     2262.5276\n",
       "          UCAC2 7201471           30.0     2262.5426\n",
       "20210217  HD 49855                20.0     2263.5394\n",
       "20210221  UCAC2 7201471           30.0     2267.5131\n",
       "20210310  V* V479 Car             16.0     2284.5063\n",
       "20210313  V* V1249 Cen            30.0     2287.7163\n",
       "          V* V479 Car             30.0     2287.6958\n",
       "20210314  2MASS J12271665-6239142 30.0     2288.5819\n",
       "          CD-62 657               30.0     2288.5974\n",
       "          V* V1249 Cen            30.0     2288.5647\n",
       "          V* V479 Car             30.0     2288.5460\n",
       "20210316  V* V479 Car             30.0     2290.6759\n",
       "20210317  V* V479 Car             30.0     2291.6196"
      ]
     },
     "execution_count": 14,
     "metadata": {},
     "output_type": "execute_result"
    }
   ],
   "source": [
    "df_out = df_log.groupby(['night_dir', 'OBJECT', 'EXPTIME']).BTJD.mean().round(decimals=4).to_frame()\n",
    "df_out"
   ]
  },
  {
   "cell_type": "markdown",
   "metadata": {},
   "source": [
    "Neat! Let's save these so we can read them in later."
   ]
  },
  {
   "cell_type": "code",
   "execution_count": 15,
   "metadata": {},
   "outputs": [],
   "source": [
    "df_out.to_csv('../../data/IGRINS/2021A_metadata_log.csv')"
   ]
  },
  {
   "cell_type": "code",
   "execution_count": 16,
   "metadata": {},
   "outputs": [
    {
     "name": "stdout",
     "output_type": "stream",
     "text": [
      "night_dir,OBJECT,EXPTIME,BTJD\r\n",
      "20210202,UCAC2 7201471,30.0,2248.6363\r\n",
      "20210209,TYC 8534-1243-1,70.0,2255.5876\r\n",
      "20210210,HD 49855,10.0,2256.5614\r\n",
      "20210210,TYC 8534-1243-1,50.0,2256.5409\r\n",
      "20210210,UCAC2 7201471,20.0,2256.5551\r\n",
      "20210213,HD 49855,30.0,2259.5557\r\n",
      "20210213,TYC 8534-1243-1,120.0,2259.5275\r\n",
      "20210213,UCAC2 7201471,60.0,2259.5487\r\n",
      "20210215,HD 49855,30.0,2261.5832\r\n"
     ]
    }
   ],
   "source": [
    "! head ../../data/IGRINS/2021A_metadata_log.csv"
   ]
  },
  {
   "cell_type": "markdown",
   "metadata": {},
   "source": [
    "Great!  Now we can take those dates and overlay them on TESS lightcurves."
   ]
  }
 ],
 "metadata": {
  "kernelspec": {
   "display_name": "Python 3",
   "language": "python",
   "name": "python3"
  },
  "language_info": {
   "codemirror_mode": {
    "name": "ipython",
    "version": 3
   },
   "file_extension": ".py",
   "mimetype": "text/x-python",
   "name": "python",
   "nbconvert_exporter": "python",
   "pygments_lexer": "ipython3",
   "version": "3.6.13"
  }
 },
 "nbformat": 4,
 "nbformat_minor": 4
}
